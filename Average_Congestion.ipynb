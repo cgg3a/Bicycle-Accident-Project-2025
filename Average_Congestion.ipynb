{
 "cells": [
  {
   "cell_type": "code",
   "execution_count": null,
   "id": "c3b7ee00",
   "metadata": {},
   "outputs": [],
   "source": [
    "%pip install geopandas"
   ]
  },
  {
   "cell_type": "code",
   "execution_count": null,
   "id": "b2b4862f",
   "metadata": {},
   "outputs": [],
   "source": [
    "import pandas as pd"
   ]
  },
  {
   "cell_type": "code",
   "execution_count": null,
   "id": "03b756a6",
   "metadata": {},
   "outputs": [],
   "source": [
    "import numpy as np"
   ]
  },
  {
   "cell_type": "code",
   "execution_count": null,
   "id": "7c3a1c86",
   "metadata": {},
   "outputs": [],
   "source": [
    "totalData = pd.read_csv(\"Chicago_Traffic_Tracker_-_Historical_Congestion_Estimates_by_Region_-_2018-Current_20250411.csv\")"
   ]
  },
  {
   "cell_type": "code",
   "execution_count": null,
   "id": "1830eaf6",
   "metadata": {},
   "outputs": [],
   "source": [
    "totalData.head()"
   ]
  },
  {
   "cell_type": "code",
   "execution_count": null,
   "id": "083ccceb",
   "metadata": {},
   "outputs": [],
   "source": [
    "averages = {\"REGION_ID\": range(1,30), \"AVG_CONGESTION\": np.zeros((29),dtype=int), \"ELEMENTS\": np.zeros((29),dtype=int)}"
   ]
  },
  {
   "cell_type": "code",
   "execution_count": null,
   "id": "cfc27910",
   "metadata": {},
   "outputs": [],
   "source": [
    "# Add together the total speeds and number of times the speed was recorded for each region\n",
    "for index, row in totalData.iterrows():\n",
    "    averages[\"AVG_CONGESTION\"][row['REGION_ID'] - 1] += row['SPEED']\n",
    "    averages[\"ELEMENTS\"][row['REGION_ID'] - 1] += 1"
   ]
  },
  {
   "cell_type": "code",
   "execution_count": null,
   "id": "859d0d39",
   "metadata": {},
   "outputs": [],
   "source": [
    "# Divide the total speeds by the times the speed was recorded in each region\n",
    "for i in range(29):\n",
    "    averages[\"AVG_CONGESTION\"][i] = averages[\"AVG_CONGESTION\"][i] / averages[\"ELEMENTS\"][i]"
   ]
  },
  {
   "cell_type": "code",
   "execution_count": null,
   "id": "2b1b8ec2",
   "metadata": {},
   "outputs": [],
   "source": [
    "# Check the final AVG_CONGESTION values\n",
    "averages"
   ]
  },
  {
   "cell_type": "code",
   "execution_count": null,
   "id": "1ee9caa3",
   "metadata": {},
   "outputs": [],
   "source": [
    "# Save the CSV\n",
    "pd.DataFrame(averages).to_csv('Avg_Congestions.csv', index=False)"
   ]
  },
  {
   "cell_type": "code",
   "execution_count": null,
   "id": "57d3ce90",
   "metadata": {},
   "outputs": [],
   "source": []
  }
 ],
 "metadata": {
  "kernelspec": {
   "display_name": "Python 3",
   "language": "python",
   "name": "python3"
  },
  "language_info": {
   "codemirror_mode": {
    "name": "ipython",
    "version": 3
   },
   "file_extension": ".py",
   "mimetype": "text/x-python",
   "name": "python",
   "nbconvert_exporter": "python",
   "pygments_lexer": "ipython3",
   "version": "3.11.2"
  }
 },
 "nbformat": 4,
 "nbformat_minor": 5
}
